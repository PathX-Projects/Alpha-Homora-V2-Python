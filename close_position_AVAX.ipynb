{
 "cells": [
  {
   "cell_type": "code",
   "execution_count": 1,
   "id": "730165e1",
   "metadata": {},
   "outputs": [],
   "source": [
    "from alpha_homora_v2.util import get_web3_provider\n",
    "from alpha_homora_v2.position import AlphaHomoraV2Position"
   ]
  },
  {
   "cell_type": "code",
   "execution_count": 2,
   "id": "28b9637a",
   "metadata": {},
   "outputs": [],
   "source": [
    "# Setup Web3 provider with your AVAX RPC URL\n",
    "\n",
    "NETWORK_RPC_URL = \"https://api.avax.network/ext/bc/C/rpc\"\n",
    "\n",
    "w3_provider = get_web3_provider(NETWORK_RPC_URL)"
   ]
  },
  {
   "cell_type": "code",
   "execution_count": null,
   "id": "dcd253b8",
   "metadata": {},
   "outputs": [],
   "source": [
    "# Position Object Setup\n",
    "\n",
    "position_id = 11111\n",
    "pair = \"TOKEN/TOKEN\"  # ex. AVAX/USDT.e (exactly as shown on your position at https://homora-v2.alphaventuredao.io/your-positions)\n",
    "dex = \"dex_identifier\"  # ex. Pangolin V2 (exactly as shown on your position at https://homora-v2.alphaventuredao.io/your-positions)\n",
    "public_wallet_key = \"your_public_wallet_key\"\n",
    "private_wallet_key = \"your_private_wallet_key\"  # For signing transactions\n",
    "\n",
    "position = AlphaHomoraV2Position(web3_provider=w3_provider, \n",
    "                                 position_id=position_id, \n",
    "                                 position_symbol=pair, \n",
    "                                 dex=dex, \n",
    "                                 owner_wallet_address=\"your_public_wallet_address\",\n",
    "                                 owner_private_key=\"your_private_wallet_key\")"
   ]
  },
  {
   "cell_type": "code",
   "execution_count": null,
   "id": "01e01b4f",
   "metadata": {},
   "outputs": [],
   "source": [
    "# Get pool info\n",
    "\n",
    "position.get_pool_info()"
   ]
  },
  {
   "cell_type": "code",
   "execution_count": null,
   "id": "57ba7593",
   "metadata": {},
   "outputs": [],
   "source": [
    "# Close the position\n",
    "\n",
    "position.close()"
   ]
  }
 ],
 "metadata": {
  "kernelspec": {
   "display_name": "Python 3.9.7 64-bit",
   "language": "python",
   "name": "python3"
  },
  "language_info": {
   "codemirror_mode": {
    "name": "ipython",
    "version": 3
   },
   "file_extension": ".py",
   "mimetype": "text/x-python",
   "name": "python",
   "nbconvert_exporter": "python",
   "pygments_lexer": "ipython3",
   "version": "3.9.7"
  },
  "vscode": {
   "interpreter": {
    "hash": "aee8b7b246df8f9039afb4144a1f6fd8d2ca17a180786b69acc140d282b71a49"
   }
  }
 },
 "nbformat": 4,
 "nbformat_minor": 5
}
