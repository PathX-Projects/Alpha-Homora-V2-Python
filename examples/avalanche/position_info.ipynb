{
 "cells": [
  {
   "cell_type": "code",
   "execution_count": 1,
   "metadata": {},
   "outputs": [],
   "source": [
    "from os.path import join, dirname, abspath\n",
    "from os import getenv, getcwd\n",
    "import sys\n",
    "\n",
    "module_path = abspath(join('../..'))\n",
    "if module_path not in sys.path:\n",
    "    sys.path.append(module_path)"
   ]
  },
  {
   "cell_type": "code",
   "execution_count": 2,
   "metadata": {},
   "outputs": [],
   "source": [
    "from alpha_homora_v2.position import AvalanchePosition"
   ]
  },
  {
   "cell_type": "code",
   "execution_count": 9,
   "metadata": {},
   "outputs": [],
   "source": [
    "PUBKEY = \"0xC9E6e248928aC18eD6b103653cBcF66d23B743C6\"\n",
    "POS_ID = 11347  # In this case, my WBTC.e/AVAX position on PangolinV2"
   ]
  },
  {
   "cell_type": "code",
   "execution_count": 25,
   "metadata": {},
   "outputs": [],
   "source": [
    "position = AvalanchePosition(POS_ID, PUBKEY)"
   ]
  },
  {
   "cell_type": "code",
   "execution_count": 26,
   "metadata": {},
   "outputs": [
    {
     "data": {
      "text/plain": [
       "('0xC9E6e248928aC18eD6b103653cBcF66d23B743C6', None)"
      ]
     },
     "execution_count": 26,
     "metadata": {},
     "output_type": "execute_result"
    }
   ],
   "source": [
    "position.owner, position.private_key"
   ]
  },
  {
   "cell_type": "code",
   "execution_count": 27,
   "metadata": {},
   "outputs": [
    {
     "data": {
      "text/plain": [
       "(11347,\n",
       " 'WBTC.e/AVAX',\n",
       " 'Pangolin V2',\n",
       " 'wchef-0xa67cf61b0b9bc39c6df04095a118e53bfb9303c7-5',\n",
       " '0x966bbec3ac35452133B5c236b4139C07b1e2c9b1')"
      ]
     },
     "execution_count": 27,
     "metadata": {},
     "output_type": "execute_result"
    }
   ],
   "source": [
    "position.pos_id, position.symbol, position.dex, position.pool_key, position.spell_address"
   ]
  },
  {
   "cell_type": "code",
   "execution_count": 11,
   "metadata": {},
   "outputs": [
    {
     "data": {
      "text/plain": [
       "{'reward_token': 0.009446587391822603,\n",
       " 'reward_usd': 0.0004385621650955646,\n",
       " 'reward_token_address': '0x60781c2586d68229fde47564546784ab3faca982',\n",
       " 'reward_token_symbol': 'PNG'}"
      ]
     },
     "execution_count": 11,
     "metadata": {},
     "output_type": "execute_result"
    }
   ],
   "source": [
    "position.get_rewards_value()"
   ]
  },
  {
   "cell_type": "code",
   "execution_count": 12,
   "metadata": {},
   "outputs": [
    {
     "data": {
      "text/plain": [
       "{'equity_avax': 0.128778195905487,\n",
       " 'equity_usd': 2.5369304593380946,\n",
       " 'debt_avax': 0.08689195939086294,\n",
       " 'debt_usd': 1.7117715999999998,\n",
       " 'position_avax': 0.21567015529634995,\n",
       " 'position_usd': 4.248702059338094}"
      ]
     },
     "execution_count": 12,
     "metadata": {},
     "output_type": "execute_result"
    }
   ],
   "source": [
    "position.get_position_value()"
   ]
  },
  {
   "cell_type": "code",
   "execution_count": 14,
   "metadata": {},
   "outputs": [
    {
     "data": {
      "text/plain": [
       "(0.5770252499769997, 1.6747412384518472)"
      ]
     },
     "execution_count": 14,
     "metadata": {},
     "output_type": "execute_result"
    }
   ],
   "source": [
    "position.get_debt_ratio(), position.get_leverage_ratio()"
   ]
  },
  {
   "cell_type": "code",
   "execution_count": 15,
   "metadata": {},
   "outputs": [
    {
     "data": {
      "text/plain": [
       "{'totalAPY': 17.11585545697788,\n",
       " 'tradingFeeAPY': 10.584364627015674,\n",
       " 'farmingAPY': 6.531490829962204}"
      ]
     },
     "execution_count": 15,
     "metadata": {},
     "output_type": "execute_result"
    }
   ],
   "source": [
    "position.get_current_apy()"
   ]
  },
  {
   "cell_type": "code",
   "execution_count": 18,
   "metadata": {},
   "outputs": [
    {
     "data": {
      "text/plain": [
       "{'tokenA': <alpha_homora_v2.token.ARC20Token at 0x7f88c6be2b80>,\n",
       " 'tokenB': <alpha_homora_v2.token.ARC20Token at 0x7f88c6be2670>,\n",
       " 'tokenLP': <alpha_homora_v2.token.ARC20Token at 0x7f88c6d4e400>}"
      ]
     },
     "execution_count": 18,
     "metadata": {},
     "output_type": "execute_result"
    }
   ],
   "source": [
    "position.get_pool_tokens()"
   ]
  },
  {
   "cell_type": "code",
   "execution_count": 19,
   "metadata": {},
   "outputs": [
    {
     "data": {
      "text/plain": [
       "[(<alpha_homora_v2.token.ARC20Token at 0x7f88c70bcdf0>,\n",
       "  8204,\n",
       "  8.204e-05,\n",
       "  1.7167127246975784)]"
      ]
     },
     "execution_count": 19,
     "metadata": {},
     "output_type": "execute_result"
    }
   ],
   "source": [
    "position.get_token_debts()"
   ]
  },
  {
   "cell_type": "code",
   "execution_count": 20,
   "metadata": {},
   "outputs": [
    {
     "data": {
      "text/plain": [
       "{'exchange': {'name': 'Pangolin V2',\n",
       "  'spellAddress': '0x966bbec3ac35452133b5c236b4139c07b1e2c9b1',\n",
       "  'stakingAddress': '0x1f806f7c8ded893fd3cae279191ad7aa3798e928',\n",
       "  'logo': '/static/logos/exchange/pangolin.svg',\n",
       "  'reward': {'tokenName': 'PNG',\n",
       "   'rewardTokenAddress': '0x60781c2586d68229fde47564546784ab3faca982'}},\n",
       " 'name': 'WBTC.e/AVAX',\n",
       " 'tokens': ['0x50b7545627a5162f82a992c33b87adc75187b218',\n",
       "  '0xb31f66aa3c1e785363f0875a1b74e27b85fd66c7'],\n",
       " 'lpTokenAddress': '0x5764b8d8039c6e32f1e5d8de8da05ddf974ef5d3',\n",
       " 'type': 'Yield Farming',\n",
       " 'color': '#3a71be',\n",
       " 'wTokenAddress': '0xa67cf61b0b9bc39c6df04095a118e53bfb9303c7',\n",
       " 'wTokenType': 'WMiniChef',\n",
       " 'pid': 5,\n",
       " 'launchTimestamp': 1648800000,\n",
       " 'key': 'wchef-0xa67cf61b0b9bc39c6df04095a118e53bfb9303c7-5'}"
      ]
     },
     "execution_count": 20,
     "metadata": {},
     "output_type": "execute_result"
    }
   ],
   "source": [
    "position.pool"
   ]
  }
 ],
 "metadata": {
  "kernelspec": {
   "display_name": "Python 3.9.7 64-bit",
   "language": "python",
   "name": "python3"
  },
  "language_info": {
   "codemirror_mode": {
    "name": "ipython",
    "version": 3
   },
   "file_extension": ".py",
   "mimetype": "text/x-python",
   "name": "python",
   "nbconvert_exporter": "python",
   "pygments_lexer": "ipython3",
   "version": "3.9.7"
  },
  "orig_nbformat": 4,
  "vscode": {
   "interpreter": {
    "hash": "aee8b7b246df8f9039afb4144a1f6fd8d2ca17a180786b69acc140d282b71a49"
   }
  }
 },
 "nbformat": 4,
 "nbformat_minor": 2
}
