{
 "cells": [
  {
   "cell_type": "code",
   "execution_count": 7,
   "id": "52a81b4f",
   "metadata": {},
   "outputs": [],
   "source": [
    "import json\n",
    "import os\n",
    "\n",
    "import pandas as pd\n",
    "from web3 import Web3\n",
    "from web3.middleware import geth_poa_middleware\n",
    "\n",
    "from alpha_homora_v2.util import ContractInstanceFunc, cov_from, get_web3_provider\n",
    "from alpha_homora_v2.oracle import GetPriceFunc\n",
    "from alpha_homora_v2.resources.abi_reference import *\n"
   ]
  },
  {
   "cell_type": "code",
   "execution_count": 9,
   "id": "56ea561e",
   "metadata": {},
   "outputs": [],
   "source": [
    "# Setup Web3 Provider:\n",
    "NETWORK_RPC_URL = \"https://api.avax.network/ext/bc/C/rpc\"\n",
    "\n",
    "w3_provider = get_web3_provider(NETWORK_RPC_URL)"
   ]
  },
  {
   "cell_type": "code",
   "execution_count": 11,
   "id": "e8356668",
   "metadata": {},
   "outputs": [],
   "source": [
    "# Setting\n",
    "\n",
    "position_id = 10936\n",
    "\n",
    "# real-time price\n",
    "avax_price = GetPriceFunc('AVAX')\n",
    "eth_price = GetPriceFunc('ETH')\n",
    "png_price = GetPriceFunc('PNG')\n"
   ]
  },
  {
   "cell_type": "code",
   "execution_count": 12,
   "id": "2c0f42bb",
   "metadata": {
    "scrolled": true
   },
   "outputs": [],
   "source": [
    "bank_instance = ContractInstanceFunc(w3_provider, *HomoraBank_ABI)\n",
    "TraderJoeSpellV1_ins = ContractInstanceFunc(w3_provider, *TraderJoeSpellV1_ABI)\n",
    "PangolinSpellV2_instance = ContractInstanceFunc(w3_provider, *PangolinSpellV2_ABI)\n",
    "AggregatorOracle_ins = ContractInstanceFunc(w3_provider, *AggregatorOracle_ABI)\n",
    "WERC20_ins = ContractInstanceFunc(w3_provider, *WERC20_ABI)\n",
    "WMasterchefJoeV2_instance = ContractInstanceFunc(w3_provider, *WMasterchefJoeV2_ABI)\n",
    "coll_instance = ContractInstanceFunc(w3_provider, *WMiniChefPNG_ABI)\n",
    "pool_instance = ContractInstanceFunc(w3_provider, *PangolinLiquidity_ABI)\n",
    "usdce_instance = ContractInstanceFunc(w3_provider, *USDCe_ABI)\n",
    "png_minishefv2_ins = ContractInstanceFunc(w3_provider, *MiniChefV2_ABI)"
   ]
  },
  {
   "cell_type": "code",
   "execution_count": 13,
   "id": "391ca10d",
   "metadata": {
    "scrolled": true
   },
   "outputs": [
    {
     "name": "stdout",
     "output_type": "stream",
     "text": [
      "Position Debt: 591.5155678650119\n"
     ]
    }
   ],
   "source": [
    "# Debt\n",
    "\n",
    "position_debt_output = bank_instance.functions.getPositionDebts(position_id).call()\n",
    "position_info_output = bank_instance.functions.getPositionInfo(position_id).call()\n",
    "\n",
    "# print(position_debt_output)\n",
    "# print(position_info_output)\n",
    "\n",
    "position_debt = position_debt_output[1][0]/1e18 * avax_price\n",
    "print(\"Position Debt:\", position_debt)\n",
    "collateral_size = position_info_output[3]"
   ]
  },
  {
   "cell_type": "code",
   "execution_count": 14,
   "id": "20502324",
   "metadata": {},
   "outputs": [
    {
     "name": "stdout",
     "output_type": "stream",
     "text": [
      "Position Value: 1644.9485227228456\n"
     ]
    }
   ],
   "source": [
    "# Position Value \n",
    "\n",
    "r0,r1,_ = pool_instance.functions.getReserves().call()\n",
    "supply = pool_instance.functions.totalSupply().call()\n",
    "\n",
    "token0_amount = r0*collateral_size//supply/1e6\n",
    "token1_amount = r1*collateral_size//supply/1e18\n",
    "\n",
    "position_value = token0_amount + token1_amount*avax_price\n",
    "print(\"Position Value:\", position_value)"
   ]
  },
  {
   "cell_type": "code",
   "execution_count": 15,
   "id": "52553bd6",
   "metadata": {},
   "outputs": [
    {
     "data": {
      "text/plain": [
       "['0x3F53B4e92f0A321723b69b3D9efE42b90d3248Da',\n",
       " '0x8DF47fc33DF77Ae0526cDAC4A0CA89739EF9f1Cc',\n",
       " 5300541194335152988749892502228755547482451690626931611734137475369893570,\n",
       " 149150448042682]"
      ]
     },
     "execution_count": 15,
     "metadata": {},
     "output_type": "execute_result"
    }
   ],
   "source": [
    "position_info_output"
   ]
  },
  {
   "cell_type": "code",
   "execution_count": null,
   "id": "1a1e36c5",
   "metadata": {},
   "outputs": [],
   "source": [
    "# Reward\n",
    "\n",
    "pid, entryRewardPerShare = coll_instance.functions.decodeId(position_info_output[2]).call()\n",
    "accRewardPerShare = png_minishefv2_ins.functions.poolInfo(pid).call()[0]\n",
    "# rewardAmount in PNG token\n",
    "rewardAmount = collateral_size * cov_from(accRewardPerShare - entryRewardPerShare) /10e11\n",
    "reward_value = rewardAmount*png_price"
   ]
  },
  {
   "cell_type": "code",
   "execution_count": null,
   "id": "b019820b",
   "metadata": {},
   "outputs": [],
   "source": [
    "accRewardPerShare"
   ]
  },
  {
   "cell_type": "code",
   "execution_count": null,
   "id": "d2e01b26",
   "metadata": {},
   "outputs": [],
   "source": [
    "# Debt Ratio\n",
    "\n",
    "collateral_credit = bank_instance.functions.getCollateralETHValue(position_id).call()\n",
    "borrow_credit = bank_instance.functions.getBorrowETHValue(position_id).call()\n",
    "\n",
    "debt_ratio = borrow_credit/collateral_credit"
   ]
  },
  {
   "cell_type": "code",
   "execution_count": null,
   "id": "11cc051e",
   "metadata": {},
   "outputs": [],
   "source": [
    "# Output\n",
    "\n",
    "dict1 = {\n",
    "    \"Position Debt\":position_debt, \n",
    "    \"Position Value\": position_value, \n",
    "    \"Debt Ratio\": debt_ratio,\n",
    "    \"Reward Amount\": rewardAmount,\n",
    "    \"Reward Value\": reward_value}\n",
    "\n",
    "df_monitor = pd.DataFrame(dict1, index=[position_id])"
   ]
  },
  {
   "cell_type": "code",
   "execution_count": null,
   "id": "f5ce48ea",
   "metadata": {},
   "outputs": [],
   "source": [
    "display(df_monitor)\n",
    "df_monitor.to_csv(f'{os.path.abspath(os.path.dirname(os.getcwd()))}\\\\Result\\\\Position {position_id} Info.csv')"
   ]
  }
 ],
 "metadata": {
  "interpreter": {
   "hash": "aee8b7b246df8f9039afb4144a1f6fd8d2ca17a180786b69acc140d282b71a49"
  },
  "kernelspec": {
   "display_name": "Python 3",
   "language": "python",
   "name": "python3"
  },
  "language_info": {
   "codemirror_mode": {
    "name": "ipython",
    "version": 3
   },
   "file_extension": ".py",
   "mimetype": "text/x-python",
   "name": "python",
   "nbconvert_exporter": "python",
   "pygments_lexer": "ipython3",
   "version": "3.9.7"
  }
 },
 "nbformat": 4,
 "nbformat_minor": 5
}
